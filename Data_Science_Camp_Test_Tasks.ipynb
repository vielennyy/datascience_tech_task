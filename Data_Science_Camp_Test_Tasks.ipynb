{
  "nbformat": 4,
  "nbformat_minor": 0,
  "metadata": {
    "colab": {
      "provenance": []
    },
    "kernelspec": {
      "name": "python3",
      "display_name": "Python 3"
    },
    "language_info": {
      "name": "python"
    }
  },
  "cells": [
    {
      "cell_type": "markdown",
      "source": [
        "Voitsikhovska Lena | IV Amazinum Data Science Camp"
      ],
      "metadata": {
        "id": "NO2rhH2yfDcS"
      }
    },
    {
      "cell_type": "code",
      "source": [
        "import random\n",
        "import time\n",
        "import matplotlib.pyplot as plt"
      ],
      "metadata": {
        "id": "ABfllCuupU70"
      },
      "execution_count": 67,
      "outputs": []
    },
    {
      "cell_type": "markdown",
      "source": [
        "Завдання 1: Написати програму розв’язування систем 3 лінійних рівнянь з 3 невідомими, та вказати\n",
        "розв’язок X системи AX= B, де"
      ],
      "metadata": {
        "id": "cYnmsO9Z3XI_"
      }
    },
    {
      "cell_type": "code",
      "source": [
        "A = [[1, 2, 3],\n",
        "     [0, 1, 2],\n",
        "     [2, 0, 0]]\n",
        "\n",
        "b = [1, 1, 0]\n",
        "\n",
        "n = len(b)\n",
        "\n",
        "for i in range(n):\n",
        "    max_row = i\n",
        "    for k in range(i + 1, n):\n",
        "        if abs(A[k][i]) > abs(A[max_row][i]):\n",
        "            max_row = k\n",
        "\n",
        "    A[i], A[max_row] = A[max_row], A[i]\n",
        "    b[i], b[max_row] = b[max_row], b[i]\n",
        "\n",
        "    pivot = A[i][i]\n",
        "    for j in range(i, n):\n",
        "        A[i][j] /= pivot\n",
        "    b[i] /= pivot\n",
        "\n",
        "    for k in range(i + 1, n):\n",
        "        factor = A[k][i]\n",
        "        for j in range(i, n):\n",
        "            A[k][j] -= factor * A[i][j]\n",
        "        b[k] -= factor * b[i]\n",
        "\n",
        "x = [0] * n\n",
        "for i in range(n - 1, -1, -1):\n",
        "    x[i] = b[i]\n",
        "    for j in range(i + 1, n):\n",
        "        x[i] -= A[i][j] * x[j]\n",
        "\n",
        "print(\"Результати:\")\n",
        "for i in range(n):\n",
        "    print(\"x[{}] = {}\".format(i, x[i]))\n"
      ],
      "metadata": {
        "colab": {
          "base_uri": "https://localhost:8080/"
        },
        "id": "yTfP4T1ijFNZ",
        "outputId": "6b4e1c64-8b6d-461a-9bf6-19b22d8f6948"
      },
      "execution_count": 68,
      "outputs": [
        {
          "output_type": "stream",
          "name": "stdout",
          "text": [
            "Результати:\n",
            "x[0] = 0.0\n",
            "x[1] = -1.0\n",
            "x[2] = 1.0\n"
          ]
        }
      ]
    },
    {
      "cell_type": "markdown",
      "source": [
        "Завдання 2: Написати програму, котра приймає на вхід матрицю зі значеннями 1 або 0 (живий або\n",
        "мертвий стани) та ітеративно замінює значення в матриці за наступними правилами:\n",
        "● якщо в живої клітини два чи три живих сусіди, то вона лишається жити;\n",
        "● якщо в живої клітини один чи немає живих сусідів, то вона помирає від «самотності»;\n",
        "● якщо в живої клітини чотири та більше живих сусідів, то вона помирає від «перенаселення»;\n",
        "● якщо в мертвої клітини рівно три живих сусіди, то вона оживає.\n",
        "Кожна клітинка має вісім сусідів."
      ],
      "metadata": {
        "id": "hYkVxyznjsIO"
      }
    },
    {
      "cell_type": "code",
      "source": [
        "def count_neighbors(board, x, y):\n",
        "    # кількість живих сусідів для заданої клітинки (x, y)\n",
        "    count = 0\n",
        "    rows, cols = len(board), len(board[0])\n",
        "\n",
        "    # Список зі зміщеннями до сусідніх клітинок\n",
        "    offsets = [(-1, -1), (-1, 0), (-1, 1),\n",
        "               (0, -1),           (0, 1),\n",
        "               (1, -1), (1, 0), (1, 1)]\n",
        "\n",
        "    for dx, dy in offsets:\n",
        "        nx, ny = x + dx, y + dy\n",
        "        if 0 <= nx < rows and 0 <= ny < cols and board[nx][ny] == 1:\n",
        "            count += 1\n",
        "    return count\n",
        "\n",
        "def update_board(board):\n",
        "    new_board = [row[:] for row in board]\n",
        "    rows, cols = len(board), len(board[0])\n",
        "\n",
        "    for x in range(rows):\n",
        "        for y in range(cols):\n",
        "            cell = board[x][y]\n",
        "            neighbors = count_neighbors(board, x, y)\n",
        "\n",
        "            if cell == 1:\n",
        "                if neighbors < 2 or neighbors > 3:\n",
        "                    new_board[x][y] = 0\n",
        "            else:\n",
        "                if neighbors == 3:\n",
        "                    new_board[x][y] = 1\n",
        "\n",
        "    return new_board\n",
        "\n",
        "# Приклад вхідної матриці (0 - мертва клітинка, 1 - жива клітинка)\n",
        "initial_board = [[1,0,0,0,0,0,0],\n",
        "                  [0,0,1,0,0,1,1],\n",
        "                  [1,0,0,1,0,0,1],\n",
        "                  [0,1,1,0,1,1,0],\n",
        "                  [1,1,1,1,0,0,1],\n",
        "                  [1,1,1,1,1,1,1],\n",
        "                  [1,1,0,1,1,0,1]]\n",
        "\n",
        "# Кількість ітерацій (поколінь)\n",
        "iterations = 7\n",
        "\n",
        "# Виконуємо ітеративне оновлення та виводимо результати\n",
        "for generation in range(iterations):\n",
        "    initial_board = update_board(initial_board)\n",
        "\n",
        "for row in initial_board:\n",
        "      print(row)\n"
      ],
      "metadata": {
        "colab": {
          "base_uri": "https://localhost:8080/"
        },
        "id": "X_Te7CZekxsC",
        "outputId": "8710242a-f327-4d31-d599-afdb9a61f429"
      },
      "execution_count": 69,
      "outputs": [
        {
          "output_type": "stream",
          "name": "stdout",
          "text": [
            "[0, 0, 0, 0, 0, 0, 0]\n",
            "[0, 0, 0, 0, 0, 0, 0]\n",
            "[0, 0, 0, 0, 0, 0, 0]\n",
            "[0, 0, 0, 0, 0, 0, 0]\n",
            "[0, 0, 0, 0, 0, 0, 0]\n",
            "[0, 0, 0, 0, 0, 0, 0]\n",
            "[0, 0, 0, 0, 0, 0, 0]\n"
          ]
        }
      ]
    },
    {
      "cell_type": "markdown",
      "source": [
        "Завдання 2.1*: Модифікувати програму так, щоб вона випадково генерувала початковий стан матриці з\n",
        "заданим розміром і мала можливість безкінечно симулювати ітерації."
      ],
      "metadata": {
        "id": "-Ukb_GYIoVxI"
      }
    },
    {
      "cell_type": "code",
      "source": [
        "dimension = int(input(f\"Вкажіть розмірність матриці: \"))\n",
        "print(f'Генеруємо матрицю розмірністю {dimension}')\n",
        "\n",
        "def generate_boolean_matrix(dimension):\n",
        "    matrix = []\n",
        "    for _ in range(dimension):\n",
        "        row = [random.choice([0, 1]) for _ in range(dimension)]\n",
        "        matrix.append(row)\n",
        "    return matrix\n",
        "\n",
        "boolean_matrix = generate_boolean_matrix(dimension)\n",
        "\n",
        "# Виводимо матрицю на екран\n",
        "for row in boolean_matrix:\n",
        "    print(row)\n",
        "\n",
        "print()\n",
        "def print_matrix(matrix):\n",
        "    for row in matrix:\n",
        "      print(row)\n",
        "    print()\n",
        "\n",
        "def update_and_show_matrix (visualize_board, m):\n",
        "  iterations = True\n",
        "\n",
        "  while(iterations):\n",
        "    m = update_board(m)\n",
        "    time.sleep(3)\n",
        "    visualize_board(m)\n",
        "update_and_show_matrix(print_matrix, boolean_matrix)\n",
        "\n",
        ""
      ],
      "metadata": {
        "colab": {
          "base_uri": "https://localhost:8080/",
          "height": 817
        },
        "id": "OLczhDB2oUo2",
        "outputId": "c5410eb2-136b-45a6-b946-4003df4dcf17"
      },
      "execution_count": 70,
      "outputs": [
        {
          "output_type": "stream",
          "name": "stdout",
          "text": [
            "Вкажіть розмірність матриці: 7\n",
            "Генеруємо матрицю розмірністю 7\n",
            "[1, 1, 1, 1, 0, 0, 1]\n",
            "[1, 0, 0, 1, 0, 1, 0]\n",
            "[1, 0, 1, 0, 0, 1, 0]\n",
            "[1, 1, 1, 1, 1, 1, 1]\n",
            "[0, 0, 1, 0, 0, 1, 0]\n",
            "[1, 0, 1, 0, 0, 1, 1]\n",
            "[0, 0, 1, 0, 1, 0, 0]\n",
            "\n",
            "[1, 1, 1, 1, 1, 0, 0]\n",
            "[1, 0, 0, 1, 0, 1, 1]\n",
            "[1, 0, 0, 0, 0, 0, 0]\n",
            "[1, 0, 0, 0, 0, 0, 1]\n",
            "[1, 0, 0, 0, 0, 0, 0]\n",
            "[0, 0, 1, 0, 1, 1, 1]\n",
            "[0, 1, 0, 1, 0, 1, 0]\n",
            "\n",
            "[1, 1, 1, 1, 1, 1, 0]\n",
            "[1, 0, 0, 1, 0, 1, 0]\n",
            "[1, 1, 0, 0, 0, 1, 1]\n",
            "[1, 1, 0, 0, 0, 0, 0]\n",
            "[0, 1, 0, 0, 0, 0, 1]\n",
            "[0, 1, 1, 1, 1, 1, 1]\n",
            "[0, 0, 1, 1, 0, 1, 1]\n",
            "\n"
          ]
        },
        {
          "output_type": "error",
          "ename": "KeyboardInterrupt",
          "evalue": "ignored",
          "traceback": [
            "\u001b[0;31m---------------------------------------------------------------------------\u001b[0m",
            "\u001b[0;31mKeyboardInterrupt\u001b[0m                         Traceback (most recent call last)",
            "\u001b[0;32m<ipython-input-70-9720274bdba4>\u001b[0m in \u001b[0;36m<cell line: 30>\u001b[0;34m()\u001b[0m\n\u001b[1;32m     28\u001b[0m     \u001b[0mtime\u001b[0m\u001b[0;34m.\u001b[0m\u001b[0msleep\u001b[0m\u001b[0;34m(\u001b[0m\u001b[0;36m3\u001b[0m\u001b[0;34m)\u001b[0m\u001b[0;34m\u001b[0m\u001b[0;34m\u001b[0m\u001b[0m\n\u001b[1;32m     29\u001b[0m     \u001b[0mvisualize_board\u001b[0m\u001b[0;34m(\u001b[0m\u001b[0mm\u001b[0m\u001b[0;34m)\u001b[0m\u001b[0;34m\u001b[0m\u001b[0;34m\u001b[0m\u001b[0m\n\u001b[0;32m---> 30\u001b[0;31m \u001b[0mupdate_and_show_matrix\u001b[0m\u001b[0;34m(\u001b[0m\u001b[0mprint_matrix\u001b[0m\u001b[0;34m,\u001b[0m \u001b[0mboolean_matrix\u001b[0m\u001b[0;34m)\u001b[0m\u001b[0;34m\u001b[0m\u001b[0;34m\u001b[0m\u001b[0m\n\u001b[0m\u001b[1;32m     31\u001b[0m \u001b[0;34m\u001b[0m\u001b[0m\n\u001b[1;32m     32\u001b[0m \u001b[0;34m\u001b[0m\u001b[0m\n",
            "\u001b[0;32m<ipython-input-70-9720274bdba4>\u001b[0m in \u001b[0;36mupdate_and_show_matrix\u001b[0;34m(visualize_board, m)\u001b[0m\n\u001b[1;32m     26\u001b[0m   \u001b[0;32mwhile\u001b[0m\u001b[0;34m(\u001b[0m\u001b[0miterations\u001b[0m\u001b[0;34m)\u001b[0m\u001b[0;34m:\u001b[0m\u001b[0;34m\u001b[0m\u001b[0;34m\u001b[0m\u001b[0m\n\u001b[1;32m     27\u001b[0m     \u001b[0mm\u001b[0m \u001b[0;34m=\u001b[0m \u001b[0mupdate_board\u001b[0m\u001b[0;34m(\u001b[0m\u001b[0mm\u001b[0m\u001b[0;34m)\u001b[0m\u001b[0;34m\u001b[0m\u001b[0;34m\u001b[0m\u001b[0m\n\u001b[0;32m---> 28\u001b[0;31m     \u001b[0mtime\u001b[0m\u001b[0;34m.\u001b[0m\u001b[0msleep\u001b[0m\u001b[0;34m(\u001b[0m\u001b[0;36m3\u001b[0m\u001b[0;34m)\u001b[0m\u001b[0;34m\u001b[0m\u001b[0;34m\u001b[0m\u001b[0m\n\u001b[0m\u001b[1;32m     29\u001b[0m     \u001b[0mvisualize_board\u001b[0m\u001b[0;34m(\u001b[0m\u001b[0mm\u001b[0m\u001b[0;34m)\u001b[0m\u001b[0;34m\u001b[0m\u001b[0;34m\u001b[0m\u001b[0m\n\u001b[1;32m     30\u001b[0m \u001b[0mupdate_and_show_matrix\u001b[0m\u001b[0;34m(\u001b[0m\u001b[0mprint_matrix\u001b[0m\u001b[0;34m,\u001b[0m \u001b[0mboolean_matrix\u001b[0m\u001b[0;34m)\u001b[0m\u001b[0;34m\u001b[0m\u001b[0;34m\u001b[0m\u001b[0m\n",
            "\u001b[0;31mKeyboardInterrupt\u001b[0m: "
          ]
        }
      ]
    },
    {
      "cell_type": "markdown",
      "source": [
        "Завдання 2.2**: Візуалізувати симуляцію ітерацій (matplotlib / seaborn / plotly / etc)."
      ],
      "metadata": {
        "id": "wJq8H9rOupB3"
      }
    },
    {
      "cell_type": "code",
      "source": [
        "def visualize_board(board):\n",
        "    # Візуалізація стану матриці\n",
        "    plt.imshow(board, cmap='binary')\n",
        "    plt.show()\n",
        "\n",
        "matrix = generate_boolean_matrix(7)\n",
        "update_and_show_matrix(visualize_board, matrix)"
      ],
      "metadata": {
        "colab": {
          "base_uri": "https://localhost:8080/",
          "height": 1000
        },
        "id": "jbGMUewmutEZ",
        "outputId": "6b987699-55e1-48f3-f5b5-be82e60f822a"
      },
      "execution_count": 71,
      "outputs": [
        {
          "output_type": "display_data",
          "data": {
            "text/plain": [
              "<Figure size 640x480 with 1 Axes>"
            ],
            "image/png": "[encoded data removed]"
          },
          "metadata": {}
        },
        {
          "output_type": "display_data",
          "data": {
            "text/plain": [
              "<Figure size 640x480 with 1 Axes>"
            ],
            "image/png": "[encoded data removed]"
          },
          "metadata": {}
        },
        {
          "output_type": "display_data",
          "data": {
            "text/plain": [
              "<Figure size 640x480 with 1 Axes>"
            ],
            "image/png": "[encoded data removed]"
          },
          "metadata": {}
        },
        {
          "output_type": "error",
          "ename": "KeyboardInterrupt",
          "evalue": "ignored",
          "traceback": [
            "\u001b[0;31m---------------------------------------------------------------------------\u001b[0m",
            "\u001b[0;31mKeyboardInterrupt\u001b[0m                         Traceback (most recent call last)",
            "\u001b[0;32m<ipython-input-71-a89e9867a269>\u001b[0m in \u001b[0;36m<cell line: 7>\u001b[0;34m()\u001b[0m\n\u001b[1;32m      5\u001b[0m \u001b[0;34m\u001b[0m\u001b[0m\n\u001b[1;32m      6\u001b[0m \u001b[0mmatrix\u001b[0m \u001b[0;34m=\u001b[0m \u001b[0mgenerate_boolean_matrix\u001b[0m\u001b[0;34m(\u001b[0m\u001b[0;36m7\u001b[0m\u001b[0;34m)\u001b[0m\u001b[0;34m\u001b[0m\u001b[0;34m\u001b[0m\u001b[0m\n\u001b[0;32m----> 7\u001b[0;31m \u001b[0mupdate_and_show_matrix\u001b[0m\u001b[0;34m(\u001b[0m\u001b[0mvisualize_board\u001b[0m\u001b[0;34m,\u001b[0m \u001b[0mmatrix\u001b[0m\u001b[0;34m)\u001b[0m\u001b[0;34m\u001b[0m\u001b[0;34m\u001b[0m\u001b[0m\n\u001b[0m",
            "\u001b[0;32m<ipython-input-70-9720274bdba4>\u001b[0m in \u001b[0;36mupdate_and_show_matrix\u001b[0;34m(visualize_board, m)\u001b[0m\n\u001b[1;32m     26\u001b[0m   \u001b[0;32mwhile\u001b[0m\u001b[0;34m(\u001b[0m\u001b[0miterations\u001b[0m\u001b[0;34m)\u001b[0m\u001b[0;34m:\u001b[0m\u001b[0;34m\u001b[0m\u001b[0;34m\u001b[0m\u001b[0m\n\u001b[1;32m     27\u001b[0m     \u001b[0mm\u001b[0m \u001b[0;34m=\u001b[0m \u001b[0mupdate_board\u001b[0m\u001b[0;34m(\u001b[0m\u001b[0mm\u001b[0m\u001b[0;34m)\u001b[0m\u001b[0;34m\u001b[0m\u001b[0;34m\u001b[0m\u001b[0m\n\u001b[0;32m---> 28\u001b[0;31m     \u001b[0mtime\u001b[0m\u001b[0;34m.\u001b[0m\u001b[0msleep\u001b[0m\u001b[0;34m(\u001b[0m\u001b[0;36m3\u001b[0m\u001b[0;34m)\u001b[0m\u001b[0;34m\u001b[0m\u001b[0;34m\u001b[0m\u001b[0m\n\u001b[0m\u001b[1;32m     29\u001b[0m     \u001b[0mvisualize_board\u001b[0m\u001b[0;34m(\u001b[0m\u001b[0mm\u001b[0m\u001b[0;34m)\u001b[0m\u001b[0;34m\u001b[0m\u001b[0;34m\u001b[0m\u001b[0m\n\u001b[1;32m     30\u001b[0m \u001b[0mupdate_and_show_matrix\u001b[0m\u001b[0;34m(\u001b[0m\u001b[0mprint_matrix\u001b[0m\u001b[0;34m,\u001b[0m \u001b[0mboolean_matrix\u001b[0m\u001b[0;34m)\u001b[0m\u001b[0;34m\u001b[0m\u001b[0;34m\u001b[0m\u001b[0m\n",
            "\u001b[0;31mKeyboardInterrupt\u001b[0m: "
          ]
        }
      ]
    },
    {
      "cell_type": "markdown",
      "source": [
        "Завдання 3: Ймовірність випадання сторони ‘H’ для кожної з 5 монет (назвемо їх m1, m2, m3, m4, m5) зі\n",
        "зміщеним центром ваги рівна відповідно [0.1, 0.2, 0.4, 0.8, 0.9]. З монет навмання вибрали одну і почали\n",
        "випробування. Визначити ймовірність випадання ‘H в наступному випробуванні після кожного з 8\n",
        "фактично проведених випробувань:\n",
        "[H H H T H T H H] (тут ‘T’ протилежна сторона монети).\n",
        "Наприклад, до першого випробування ймовірність випадання ‘H’ рівна ~0.48 (за формулою повної\n",
        "ймовірності, з урахуванням рівноможливості вибрати кожну монету з наявних). Після випадання ‘H’ в\n",
        "першому випробуванні, ймовірності гіпотез, що вибрана монета є m1/m2/m3 зменшились, а відповідно\n",
        "ймовірності гіпотез, що вибрана монета m4/m5 збільшились а, отже і змінилась ймовірність випадання ‘H’\n",
        "в наступному (другому) випробуванні і стала рівною ~0.69. Аналогічно після випадання ‘H’ в другому\n",
        "випробування треба переоцінити ймовірність випадання ‘H’ в третьому, і т.д."
      ],
      "metadata": {
        "id": "kWd5nEewMZVD"
      }
    },
    {
      "cell_type": "code",
      "source": [
        "# Оголошуємо список подій, наданий в умові\n",
        "events = [1, 1, 1, 0, 1, 0, 1, 1]\n",
        "\n",
        "# список ймовірностей випадіння сторони Н для кожної з 5-ти монет\n",
        "probabilities = [0.1, 0.2, 0.4, 0.8, 0.9]\n",
        "\n",
        "# список ймовірності, що підкидають монету mn\n",
        "coin_prob = [0.2, 0.2, 0.2, 0.2, 0.2]\n",
        "\n",
        "# функція пошуку загальної ймовірності події\n",
        "def general_probability (probabilities, coin_prob):\n",
        "  sum = 0\n",
        "  for i in range(len(coin_prob)):\n",
        "    sum += probabilities[i] * coin_prob[i]\n",
        "  return sum\n",
        "\n",
        "# функція обчислення ймовірностей гіпотез (за теоремою Баєса)\n",
        "def Bayes_prob(probabilities, coin_prob, event):\n",
        "  new_coin_prob = [0, 0, 0, 0, 0] # новий масив ймовірності підкидання монет\n",
        "  gen_prob = general_probability(probabilities, coin_prob)\n",
        "  # якщо подія не відбулася обраховуємо загальну ймовірність зворотньої події (що випаде сторона Т)\n",
        "  if not event:\n",
        "    gen_prob = 1 - gen_prob\n",
        "  # обчислення нових ймовірностей вибору монет\n",
        "  for i in range(len(coin_prob)):\n",
        "    new_coin_prob[i] = abs((not event) - probabilities[i]) * coin_prob[i] / gen_prob\n",
        "    # якщо event = 0, обраховуємо ймовірність випадіння сторони Т\n",
        "  return new_coin_prob\n",
        "\n",
        "\n",
        "for i in events:\n",
        "\n",
        "  coin_prob = Bayes_prob(probabilities, coin_prob, i)\n",
        "  gen_prob = general_probability(probabilities, coin_prob)\n",
        "  print(gen_prob)"
      ],
      "metadata": {
        "colab": {
          "base_uri": "https://localhost:8080/"
        },
        "id": "nTOJ3RK6Mfu5",
        "outputId": "8163cfda-845a-4b92-fe7b-9721085b0b0d"
      },
      "execution_count": 72,
      "outputs": [
        {
          "output_type": "stream",
          "name": "stdout",
          "text": [
            "0.6916666666666667\n",
            "0.791566265060241\n",
            "0.8318112633181125\n",
            "0.7432579185520355\n",
            "0.7974796055034701\n",
            "0.688733241147117\n",
            "0.7558027881316725\n",
            "0.7951765079548407\n"
          ]
        }
      ]
    }
  ]
}